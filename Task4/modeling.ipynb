{
 "cells": [
  {
   "cell_type": "markdown",
   "id": "0df7b162-659d-4ab6-98c9-47d65c8e1d27",
   "metadata": {},
   "source": [
    "## Importing the clean dataset"
   ]
  },
  {
   "cell_type": "code",
   "execution_count": 6,
   "id": "aa0e9b73-d9dd-4b65-b705-b10a69cb88ec",
   "metadata": {},
   "outputs": [],
   "source": [
    "import pandas as pd\n",
    "import numpy as np\n",
    "\n",
    "df_fe = pd.read_csv(r\"C:\\Users\\Acer\\Internship\\Task4\\Cleaned data\\stock_prices_cleaned.csv\")\n",
    "\n",
    "# Recreate 'return' if not saved in the CSV\n",
    "df_fe['return'] = df_fe.groupby('Company')['Close'].pct_change()\n",
    "\n",
    "# Then proceed with modeling:\n",
    "df_fe['target'] = (df_fe.groupby('Company')['return'].shift(-1) > 0).astype(int)\n",
    "df_fe.dropna(subset=['target'], inplace=True)"
   ]
  },
  {
   "cell_type": "markdown",
   "id": "5c9f3d33-97f8-4383-ba6b-dd7469eace0f",
   "metadata": {},
   "source": [
    "## modeling for Regression "
   ]
  },
  {
   "cell_type": "code",
   "execution_count": 7,
   "id": "edcc5bb8-e1a9-4bb8-90bf-6e74411113bb",
   "metadata": {},
   "outputs": [
    {
     "name": "stdout",
     "output_type": "stream",
     "text": [
      "Optimization terminated successfully.\n",
      "         Current function value: 0.692498\n",
      "         Iterations 3\n",
      "                           Logit Regression Results                           \n",
      "==============================================================================\n",
      "Dep. Variable:                 target   No. Observations:               479428\n",
      "Model:                          Logit   Df Residuals:                   479424\n",
      "Method:                           MLE   Df Model:                            3\n",
      "Date:                Fri, 08 Aug 2025   Pseudo R-squ.:               1.245e-06\n",
      "Time:                        14:23:11   Log-Likelihood:            -3.3200e+05\n",
      "converged:                       True   LL-Null:                   -3.3200e+05\n",
      "Covariance Type:            nonrobust   LLR p-value:                    0.8431\n",
      "==============================================================================\n",
      "                 coef    std err          z      P>|z|      [0.025      0.975]\n",
      "------------------------------------------------------------------------------\n",
      "const          0.0719      0.003     24.757      0.000       0.066       0.078\n",
      "Open High    -9.1e-08   2.36e-07     -0.385      0.700   -5.54e-07    3.72e-07\n",
      "Low Close   7.463e-08   1.78e-07      0.419      0.676   -2.75e-07    4.24e-07\n",
      "Open Low    2.056e-08   3.06e-07      0.067      0.946   -5.79e-07     6.2e-07\n",
      "==============================================================================\n"
     ]
    }
   ],
   "source": [
    "import statsmodels.api as sm\n",
    "from sklearn.model_selection import train_test_split\n",
    "\n",
    "# Binary target: Did the stock go up tomorrow?\n",
    "df_fe['target'] = (df_fe.groupby('Company')['return'].shift(-1) > 0).astype(int)\n",
    "df_fe.dropna(subset=['target'], inplace=True)\n",
    "\n",
    "X = df_fe[['Open High', 'Low Close', 'Open Low']]  # sample features\n",
    "X = sm.add_constant(X)\n",
    "y = df_fe['target']\n",
    "\n",
    "X_train, X_test, y_train, y_test = train_test_split(X, y, stratify=y, test_size=0.2, random_state=42)\n",
    "\n",
    "model = sm.Logit(y_train, X_train)\n",
    "result = model.fit()\n",
    "print(result.summary())\n"
   ]
  },
  {
   "cell_type": "markdown",
   "id": "9f722325-9d23-4f60-a153-6f938cb6a3af",
   "metadata": {},
   "source": [
    "### Interpretation"
   ]
  },
  {
   "cell_type": "code",
   "execution_count": 8,
   "id": "5c70c0a3-8962-4124-8d3b-ae05e6298398",
   "metadata": {},
   "outputs": [
    {
     "data": {
      "text/plain": [
       "const        1.074498\n",
       "Open High    1.000000\n",
       "Low Close    1.000000\n",
       "Open Low     1.000000\n",
       "dtype: float64"
      ]
     },
     "execution_count": 8,
     "metadata": {},
     "output_type": "execute_result"
    }
   ],
   "source": [
    "# Odds ratios\n",
    "np.exp(result.params)"
   ]
  },
  {
   "cell_type": "code",
   "execution_count": 9,
   "id": "bd49ea0a-061c-4f7a-9f99-106e574f5ddd",
   "metadata": {},
   "outputs": [
    {
     "data": {
      "text/html": [
       "<div>\n",
       "<style scoped>\n",
       "    .dataframe tbody tr th:only-of-type {\n",
       "        vertical-align: middle;\n",
       "    }\n",
       "\n",
       "    .dataframe tbody tr th {\n",
       "        vertical-align: top;\n",
       "    }\n",
       "\n",
       "    .dataframe thead th {\n",
       "        text-align: right;\n",
       "    }\n",
       "</style>\n",
       "<table border=\"1\" class=\"dataframe\">\n",
       "  <thead>\n",
       "    <tr style=\"text-align: right;\">\n",
       "      <th></th>\n",
       "      <th>0</th>\n",
       "      <th>1</th>\n",
       "    </tr>\n",
       "  </thead>\n",
       "  <tbody>\n",
       "    <tr>\n",
       "      <th>const</th>\n",
       "      <td>6.616544e-02</td>\n",
       "      <td>7.754250e-02</td>\n",
       "    </tr>\n",
       "    <tr>\n",
       "      <th>Open High</th>\n",
       "      <td>-5.538463e-07</td>\n",
       "      <td>3.718470e-07</td>\n",
       "    </tr>\n",
       "    <tr>\n",
       "      <th>Low Close</th>\n",
       "      <td>-2.748157e-07</td>\n",
       "      <td>4.240741e-07</td>\n",
       "    </tr>\n",
       "    <tr>\n",
       "      <th>Open Low</th>\n",
       "      <td>-5.791058e-07</td>\n",
       "      <td>6.202203e-07</td>\n",
       "    </tr>\n",
       "  </tbody>\n",
       "</table>\n",
       "</div>"
      ],
      "text/plain": [
       "                      0             1\n",
       "const      6.616544e-02  7.754250e-02\n",
       "Open High -5.538463e-07  3.718470e-07\n",
       "Low Close -2.748157e-07  4.240741e-07\n",
       "Open Low  -5.791058e-07  6.202203e-07"
      ]
     },
     "execution_count": 9,
     "metadata": {},
     "output_type": "execute_result"
    }
   ],
   "source": [
    "# Confidence intervals\n",
    "result.conf_int()"
   ]
  },
  {
   "cell_type": "code",
   "execution_count": null,
   "id": "af0581b9-30e4-41b9-92ae-930f4b432480",
   "metadata": {},
   "outputs": [],
   "source": []
  }
 ],
 "metadata": {
  "kernelspec": {
   "display_name": "Python 3 (ipykernel)",
   "language": "python",
   "name": "python3"
  },
  "language_info": {
   "codemirror_mode": {
    "name": "ipython",
    "version": 3
   },
   "file_extension": ".py",
   "mimetype": "text/x-python",
   "name": "python",
   "nbconvert_exporter": "python",
   "pygments_lexer": "ipython3",
   "version": "3.13.5"
  }
 },
 "nbformat": 4,
 "nbformat_minor": 5
}
