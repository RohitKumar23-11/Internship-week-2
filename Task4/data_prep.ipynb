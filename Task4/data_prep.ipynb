{
 "cells": [
  {
   "cell_type": "markdown",
   "id": "96991029-7181-4611-9730-eb36ec64d570",
   "metadata": {},
   "source": [
    "## Load and inspect the data"
   ]
  },
  {
   "cell_type": "code",
   "execution_count": 14,
   "id": "32e0deb8-e184-4c34-8574-d4b37448f30e",
   "metadata": {},
   "outputs": [],
   "source": [
    "import pandas as pd\n",
    "import numpy as np"
   ]
  },
  {
   "cell_type": "code",
   "execution_count": 15,
   "id": "3c8ca048-7d9a-45a9-a0d3-746f1ea811b3",
   "metadata": {},
   "outputs": [
    {
     "data": {
      "text/html": [
       "<div>\n",
       "<style scoped>\n",
       "    .dataframe tbody tr th:only-of-type {\n",
       "        vertical-align: middle;\n",
       "    }\n",
       "\n",
       "    .dataframe tbody tr th {\n",
       "        vertical-align: top;\n",
       "    }\n",
       "\n",
       "    .dataframe thead th {\n",
       "        text-align: right;\n",
       "    }\n",
       "</style>\n",
       "<table border=\"1\" class=\"dataframe\">\n",
       "  <thead>\n",
       "    <tr style=\"text-align: right;\">\n",
       "      <th></th>\n",
       "      <th>Date</th>\n",
       "      <th>Open</th>\n",
       "      <th>High</th>\n",
       "      <th>Low</th>\n",
       "      <th>Close</th>\n",
       "      <th>Volume</th>\n",
       "      <th>Dividends</th>\n",
       "      <th>Stock Splits</th>\n",
       "      <th>Company</th>\n",
       "    </tr>\n",
       "  </thead>\n",
       "  <tbody>\n",
       "    <tr>\n",
       "      <th>0</th>\n",
       "      <td>2018-11-29 00:00:00-05:00</td>\n",
       "      <td>43.829761</td>\n",
       "      <td>43.863354</td>\n",
       "      <td>42.639594</td>\n",
       "      <td>43.083508</td>\n",
       "      <td>167080000</td>\n",
       "      <td>0.00</td>\n",
       "      <td>0.0</td>\n",
       "      <td>AAPL</td>\n",
       "    </tr>\n",
       "    <tr>\n",
       "      <th>1</th>\n",
       "      <td>2018-11-29 00:00:00-05:00</td>\n",
       "      <td>104.769074</td>\n",
       "      <td>105.519257</td>\n",
       "      <td>103.534595</td>\n",
       "      <td>104.636131</td>\n",
       "      <td>28123200</td>\n",
       "      <td>0.00</td>\n",
       "      <td>0.0</td>\n",
       "      <td>MSFT</td>\n",
       "    </tr>\n",
       "    <tr>\n",
       "      <th>2</th>\n",
       "      <td>2018-11-29 00:00:00-05:00</td>\n",
       "      <td>54.176498</td>\n",
       "      <td>55.007500</td>\n",
       "      <td>54.099998</td>\n",
       "      <td>54.729000</td>\n",
       "      <td>31004000</td>\n",
       "      <td>0.00</td>\n",
       "      <td>0.0</td>\n",
       "      <td>GOOGL</td>\n",
       "    </tr>\n",
       "    <tr>\n",
       "      <th>3</th>\n",
       "      <td>2018-11-29 00:00:00-05:00</td>\n",
       "      <td>83.749496</td>\n",
       "      <td>84.499496</td>\n",
       "      <td>82.616501</td>\n",
       "      <td>83.678497</td>\n",
       "      <td>132264000</td>\n",
       "      <td>0.00</td>\n",
       "      <td>0.0</td>\n",
       "      <td>AMZN</td>\n",
       "    </tr>\n",
       "    <tr>\n",
       "      <th>4</th>\n",
       "      <td>2018-11-29 00:00:00-05:00</td>\n",
       "      <td>39.692784</td>\n",
       "      <td>40.064904</td>\n",
       "      <td>38.735195</td>\n",
       "      <td>39.037853</td>\n",
       "      <td>54917200</td>\n",
       "      <td>0.04</td>\n",
       "      <td>0.0</td>\n",
       "      <td>NVDA</td>\n",
       "    </tr>\n",
       "  </tbody>\n",
       "</table>\n",
       "</div>"
      ],
      "text/plain": [
       "                        Date        Open        High         Low       Close  \\\n",
       "0  2018-11-29 00:00:00-05:00   43.829761   43.863354   42.639594   43.083508   \n",
       "1  2018-11-29 00:00:00-05:00  104.769074  105.519257  103.534595  104.636131   \n",
       "2  2018-11-29 00:00:00-05:00   54.176498   55.007500   54.099998   54.729000   \n",
       "3  2018-11-29 00:00:00-05:00   83.749496   84.499496   82.616501   83.678497   \n",
       "4  2018-11-29 00:00:00-05:00   39.692784   40.064904   38.735195   39.037853   \n",
       "\n",
       "      Volume  Dividends  Stock Splits Company  \n",
       "0  167080000       0.00           0.0    AAPL  \n",
       "1   28123200       0.00           0.0    MSFT  \n",
       "2   31004000       0.00           0.0   GOOGL  \n",
       "3  132264000       0.00           0.0    AMZN  \n",
       "4   54917200       0.04           0.0    NVDA  "
      ]
     },
     "execution_count": 15,
     "metadata": {},
     "output_type": "execute_result"
    }
   ],
   "source": [
    "df = pd.read_csv(r\"C:\\Users\\Acer\\Internship\\Task4\\data\\stock_details_5_years.csv\", parse_dates=['Date'], low_memory=False)\n",
    "df.head()"
   ]
  },
  {
   "cell_type": "code",
   "execution_count": 16,
   "id": "527d3195-4881-4228-945f-3276f7b10782",
   "metadata": {},
   "outputs": [
    {
     "name": "stdout",
     "output_type": "stream",
     "text": [
      "<class 'pandas.core.frame.DataFrame'>\n",
      "RangeIndex: 602962 entries, 0 to 602961\n",
      "Data columns (total 9 columns):\n",
      " #   Column        Non-Null Count   Dtype  \n",
      "---  ------        --------------   -----  \n",
      " 0   Date          602962 non-null  object \n",
      " 1   Open          602962 non-null  float64\n",
      " 2   High          602962 non-null  float64\n",
      " 3   Low           602962 non-null  float64\n",
      " 4   Close         602962 non-null  float64\n",
      " 5   Volume        602962 non-null  int64  \n",
      " 6   Dividends     602962 non-null  float64\n",
      " 7   Stock Splits  602962 non-null  float64\n",
      " 8   Company       602962 non-null  object \n",
      "dtypes: float64(6), int64(1), object(2)\n",
      "memory usage: 41.4+ MB\n"
     ]
    }
   ],
   "source": [
    "df.info()"
   ]
  },
  {
   "cell_type": "markdown",
   "id": "d8f9b2a8-ff0f-45a8-ad4c-576f96c6d658",
   "metadata": {},
   "source": [
    "## Cleaning the data"
   ]
  },
  {
   "cell_type": "markdown",
   "id": "4cf9ff3d-cfdb-4998-8987-e9bc4766154b",
   "metadata": {},
   "source": [
    "### Type Conversion"
   ]
  },
  {
   "cell_type": "code",
   "execution_count": 17,
   "id": "2ce988b3-57ed-49c3-af23-e0f2e840ef00",
   "metadata": {},
   "outputs": [],
   "source": [
    "df['Company'] = df['Company'].astype('category')\n",
    "df['Volume'] = pd.to_numeric(df['Volume'], errors='coerce')\n",
    "df.sort_values(['Company', 'Date'], inplace=True)"
   ]
  },
  {
   "cell_type": "markdown",
   "id": "28509d6c-ea72-453b-aa9b-f16202790941",
   "metadata": {},
   "source": [
    "### Missing Value Imputation"
   ]
  },
  {
   "cell_type": "code",
   "execution_count": 18,
   "id": "ccde081a-21dd-437a-b3bb-fc9f7085f238",
   "metadata": {},
   "outputs": [
    {
     "name": "stderr",
     "output_type": "stream",
     "text": [
      "C:\\Users\\Acer\\AppData\\Local\\Temp\\ipykernel_29508\\2745858499.py:3: FutureWarning: The default of observed=False is deprecated and will be changed to True in a future version of pandas. Pass observed=False to retain current behavior or observed=True to adopt the future default and silence this warning.\n",
      "  df.groupby('Company')[[\"Open\", 'High', \"Low\", \"Close\", \"Volume\"]].transform(lambda x: x.ffill().bfill())\n"
     ]
    }
   ],
   "source": [
    "# Forward fill for each company\n",
    "df[['Open', 'High', 'Low', \"Close\", 'Volume']] = (\n",
    "    df.groupby('Company')[[\"Open\", 'High', \"Low\", \"Close\", \"Volume\"]].transform(lambda x: x.ffill().bfill())\n",
    "    )"
   ]
  },
  {
   "cell_type": "code",
   "execution_count": 19,
   "id": "6e9c63ed-c35a-475a-bef4-73b963ff4a7a",
   "metadata": {},
   "outputs": [],
   "source": [
    "# Dividends/Stock Splits are often zero - fill missing with 0\n",
    "df[['Dividends', 'Stock Splits']] = df[['Dividends', 'Stock Splits']].fillna(0)"
   ]
  },
  {
   "cell_type": "markdown",
   "id": "7d6111a4-9639-4fa5-8080-089d3dda1258",
   "metadata": {},
   "source": [
    "### Outlier Removal (IQR on 'Close' price)"
   ]
  },
  {
   "cell_type": "code",
   "execution_count": 20,
   "id": "266c0187-7548-4394-88e7-e6d80b5b9c80",
   "metadata": {},
   "outputs": [
    {
     "name": "stderr",
     "output_type": "stream",
     "text": [
      "C:\\Users\\Acer\\AppData\\Local\\Temp\\ipykernel_29508\\2807364820.py:8: FutureWarning: The default of observed=False is deprecated and will be changed to True in a future version of pandas. Pass observed=False to retain current behavior or observed=True to adopt the future default and silence this warning.\n",
      "  df = df.groupby('Company', group_keys=False).apply(remove_outliears_iqr)\n",
      "C:\\Users\\Acer\\AppData\\Local\\Temp\\ipykernel_29508\\2807364820.py:8: DeprecationWarning: DataFrameGroupBy.apply operated on the grouping columns. This behavior is deprecated, and in a future version of pandas the grouping columns will be excluded from the operation. Either pass `include_groups=False` to exclude the groupings or explicitly select the grouping columns after groupby to silence this warning.\n",
      "  df = df.groupby('Company', group_keys=False).apply(remove_outliears_iqr)\n"
     ]
    }
   ],
   "source": [
    "def remove_outliears_iqr(group, column='Close'):\n",
    "    Q1 = group[column].quantile(0.25)\n",
    "    Q3 = group[column].quantile(0.75)\n",
    "    IQR = Q3 - Q1\n",
    "    mask = (group[column] >= Q1 - 1.5 * IQR) & (group[column] <= Q3 + 1.5 * IQR)\n",
    "    return group[mask]\n",
    "\n",
    "df = df.groupby('Company', group_keys=False).apply(remove_outliears_iqr)"
   ]
  },
  {
   "cell_type": "markdown",
   "id": "5dfedae2-c41f-4bf9-a309-3c6699476640",
   "metadata": {},
   "source": [
    "## Schema Normalization"
   ]
  },
  {
   "cell_type": "markdown",
   "id": "55562c53-bbfb-4a78-870b-9dcb5aac6b2b",
   "metadata": {},
   "source": [
    "### Multi-Index + Time Series Alignment"
   ]
  },
  {
   "cell_type": "code",
   "execution_count": 21,
   "id": "3a9642a6-43ba-4c5b-b04a-7600c22a205b",
   "metadata": {},
   "outputs": [],
   "source": [
    "df.set_index(['Company', \"Date\"], inplace=True)\n",
    "df.sort_index(inplace=True)"
   ]
  },
  {
   "cell_type": "markdown",
   "id": "b19f83f4-6b57-4d31-87b8-b07ab084785f",
   "metadata": {},
   "source": [
    "### Normalize Volume with Rolling"
   ]
  },
  {
   "cell_type": "code",
   "execution_count": 22,
   "id": "e2f0ab3c-4243-41e2-b5f1-8a254ec7fa81",
   "metadata": {},
   "outputs": [
    {
     "name": "stderr",
     "output_type": "stream",
     "text": [
      "C:\\Users\\Acer\\AppData\\Local\\Temp\\ipykernel_29508\\2444584356.py:1: FutureWarning: The default of observed=False is deprecated and will be changed to True in a future version of pandas. Pass observed=False to retain current behavior or observed=True to adopt the future default and silence this warning.\n",
      "  df['volumn_7d_avg'] = df.groupby(level=0)['Volume'].transform(lambda x: x.rolling(window=7, min_periods=1).mean())\n"
     ]
    }
   ],
   "source": [
    "df['volumn_7d_avg'] = df.groupby(level=0)['Volume'].transform(lambda x: x.rolling(window=7, min_periods=1).mean())"
   ]
  },
  {
   "cell_type": "markdown",
   "id": "cde2989c-4103-40a0-9400-8d9daf1e378c",
   "metadata": {},
   "source": [
    "###  Create Return Column"
   ]
  },
  {
   "cell_type": "code",
   "execution_count": 23,
   "id": "93ffdbfe-13c6-431a-b293-02432fe2d4f4",
   "metadata": {},
   "outputs": [
    {
     "name": "stderr",
     "output_type": "stream",
     "text": [
      "C:\\Users\\Acer\\AppData\\Local\\Temp\\ipykernel_29508\\3957419500.py:1: FutureWarning: The default of observed=False is deprecated and will be changed to True in a future version of pandas. Pass observed=False to retain current behavior or observed=True to adopt the future default and silence this warning.\n",
      "  df['return'] = df.groupby(level=0)['Close'].pct_change()\n"
     ]
    }
   ],
   "source": [
    "df['return'] = df.groupby(level=0)['Close'].pct_change()"
   ]
  },
  {
   "cell_type": "markdown",
   "id": "a93f4e7b-2a00-4f6f-98fb-424919031bc1",
   "metadata": {},
   "source": [
    "## Feature Engineering"
   ]
  },
  {
   "cell_type": "markdown",
   "id": "e66871d4-0f83-40fd-9520-2935201410a1",
   "metadata": {},
   "source": [
    "### Polynomial & Interaction Terms"
   ]
  },
  {
   "cell_type": "code",
   "execution_count": 24,
   "id": "e4ed4eed-27ec-4181-9ab5-0baf5b294664",
   "metadata": {},
   "outputs": [],
   "source": [
    "from sklearn.preprocessing import PolynomialFeatures\n",
    "import pandas as pd\n",
    "\n",
    "# Reset index to work with raw columns\n",
    "df_reset = df.reset_index()\n",
    "\n",
    "# Select features for polynomial expansion\n",
    "features = df_reset[[\"Open\", \"High\", \"Low\", \"Close\"]]\n",
    "\n",
    "# Generate polynomial and interaction terms\n",
    "poly = PolynomialFeatures(degree=2, interaction_only=True, include_bias=False)\n",
    "poly_features = poly.fit_transform(features)\n",
    "\n",
    "# Use safe column names (with feature interactions)\n",
    "poly_df = pd.DataFrame(poly_features, columns=poly.get_feature_names_out(features.columns))\n",
    "\n",
    "# Concatenate with original dataframe (exclude original columns to avoid duplication)\n",
    "df_fe = pd.concat([df_reset.drop(columns=features.columns), poly_df], axis=1)"
   ]
  },
  {
   "cell_type": "markdown",
   "id": "fd1c9fdf-065c-45ec-83e1-433636ed91b9",
   "metadata": {},
   "source": [
    "### Encode Company"
   ]
  },
  {
   "cell_type": "code",
   "execution_count": 25,
   "id": "40bbcdc9-8647-4a71-af3b-29c152c0aa8d",
   "metadata": {},
   "outputs": [],
   "source": [
    "# Encode company as categorical\n",
    "df_fe[\"Company_code\"] = df_fe[\"Company\"].astype(\"category\").cat.codes"
   ]
  },
  {
   "cell_type": "markdown",
   "id": "4878fc06-16a1-4e2a-b338-6dc199ce03e8",
   "metadata": {},
   "source": [
    "### Export Cleaned Dataset"
   ]
  },
  {
   "cell_type": "code",
   "execution_count": 26,
   "id": "3ea7d595-a9b1-422e-9eea-a73f04b89822",
   "metadata": {},
   "outputs": [],
   "source": [
    "# Save cleaned data\n",
    "df_fe.to_csv('C:/Users/Acer/Internship/Task4/Cleaned data/stock_prices_cleaned.csv', index=False)"
   ]
  },
  {
   "cell_type": "code",
   "execution_count": null,
   "id": "fb3b102c-e4a4-475b-b88c-5bd1902f091e",
   "metadata": {},
   "outputs": [],
   "source": []
  }
 ],
 "metadata": {
  "kernelspec": {
   "display_name": "Python 3 (ipykernel)",
   "language": "python",
   "name": "python3"
  },
  "language_info": {
   "codemirror_mode": {
    "name": "ipython",
    "version": 3
   },
   "file_extension": ".py",
   "mimetype": "text/x-python",
   "name": "python",
   "nbconvert_exporter": "python",
   "pygments_lexer": "ipython3",
   "version": "3.13.5"
  }
 },
 "nbformat": 4,
 "nbformat_minor": 5
}
